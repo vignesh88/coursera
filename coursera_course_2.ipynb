{
 "cells": [
  {
   "cell_type": "code",
   "execution_count": null,
   "metadata": {},
   "outputs": [],
   "source": [
    "import os\n",
    "import sys\n",
    "import matplotlib.pyplot as plt\n",
    "\n",
    "filepath = 'C:\\\\Users\\\\vignesh\\\\Dropbox\\\\development\\\\anaconda'\n",
    "filename = 'resulting.csv'\n",
    "full_name = os.path.join(filepath, filename)\n",
    "net_score = []\n",
    "no_of_tweets = []\n",
    "\n",
    "file_ref = open(full_name, 'r')\n",
    "file_ref = file_ref.readlines()\n",
    "\n",
    "for lines in file_ref[1:]:\n",
    "    lines_list = lines.split(\",\")\n",
    "    net_score.append(int(lines_list[-1]))\n",
    "    no_of_tweets.append(int(lines_list[0]))\n",
    "\n",
    "width = 16\n",
    "height = 6\n",
    "plt.figure(figsize=(width, height))\n",
    "\n",
    "plt.scatter(net_score,no_of_tweets, label='No of retweets')\n",
    "plt.xlabel('Net Score')\n",
    "plt.ylabel('Number of Retweets')\n",
    "plt.title('Coursera project')\n",
    "plt.legend()\n",
    "plt.show()"
   ]
  },
  {
   "cell_type": "code",
   "execution_count": null,
   "metadata": {},
   "outputs": [],
   "source": []
  }
 ],
 "metadata": {
  "kernelspec": {
   "display_name": "Python (py3.7)",
   "language": "python",
   "name": "py3.7"
  },
  "language_info": {
   "codemirror_mode": {
    "name": "ipython",
    "version": 3
   },
   "file_extension": ".py",
   "mimetype": "text/x-python",
   "name": "python",
   "nbconvert_exporter": "python",
   "pygments_lexer": "ipython3",
   "version": "3.7.3"
  }
 },
 "nbformat": 4,
 "nbformat_minor": 2
}
